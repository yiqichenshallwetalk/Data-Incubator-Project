{
 "cells": [
  {
   "cell_type": "markdown",
   "metadata": {},
   "source": [
    "# Predictions of Betting Lines on NBA Games by Machine Learning Methods"
   ]
  },
  {
   "cell_type": "markdown",
   "metadata": {},
   "source": [
    "## Project  Motivation "
   ]
  },
  {
   "cell_type": "markdown",
   "metadata": {},
   "source": [
    "Sports betting has been one of the most high profits businesses for many years despite being illegal in most places in the US. On May 14, 2018, the US supreme court officially struck down the federal ban on sports betting, which means that any state can now legalize sports gambling if it desires. Although now only seven states have done so, this number will increase rapidly in the foreseeable future. It's not bold to predict that in a few years’ time one can even put bets on games through the sporting teams' official websites. The fast growing of sports betting sparks a need in more advanced technology supports. While game outcomes are influenced by many complex and unpredictable factors (e.g., a poor shooting night for a good basketball team), a well-trained machine learning model should still be able to generate reasonable predictions and provide guidelines on how to set more proper betting lines, which is the key to net profits for every betting company. On the other hand, it can also help gamblers to make good betting decisions.  "
   ]
  },
  {
   "cell_type": "markdown",
   "metadata": {},
   "source": [
    "## Project Overview"
   ]
  },
  {
   "cell_type": "markdown",
   "metadata": {},
   "source": [
    "Here I propose using several machine learning models to predict betting lines on National Basketball Association (NBA) games, the second most popular sport league in the US, based on the game statistics from previous seasons. The dataset in this project includes stats from all NBA games from 1996 to 2019. Feature engineering will be performed on the dataset to extract the most relevant features and also create new ones. Tree models will be trained and tested in this project. They are logistic regression classifier (LR), support vectors machine (SVMs) and convolutional neural networks (CNN). Predictions are made on game outcomes (win/lose), point spreads (win/lose by how many points) and total points scored in games. Performance of different models will be analyzed and compared. At the final stage of the project, the predicted betting lines are tested and compared with the actual ones in the 2019/2020 season scraped from major betting sites.   "
   ]
  },
  {
   "cell_type": "markdown",
   "metadata": {},
   "source": [
    "## Project Details "
   ]
  },
  {
   "cell_type": "markdown",
   "metadata": {},
   "source": [
    "### Dataset"
   ]
  },
  {
   "cell_type": "markdown",
   "metadata": {},
   "source": [
    "The dataset in this project is scraped from the NBA official website (https://stats.nba.com/) by the Requests library in python. Considering that the advanced stats are available only for games played after the 1996 season, in this project I collected stats from all NBA games played from 1996 to 2019, including both regular season and playoff games. Since basketball game involves a lot during this time period, the dataset is divided into three phases: 1996 to 2000, 2001 to 2010 and 2010 to 2018. When training models, different weights are assigned to these phases so that the more recent data has stronger influences in making predictions. The plan is to use 14 features to perform training. Among them only the Elo rating is a fabricated feature. All others are either directly extracted from the stats or through some simple mathematics manipulations. The Elo rating is a metric invented by Arpad Elo which reflects the strength of a team. It not only depends on the team's performance in each game and also takes into account the strength of that team's opponents."
   ]
  },
  {
   "cell_type": "markdown",
   "metadata": {},
   "source": [
    "<h4><center>Table 1. Features to Use in Training</center></h4>"
   ]
  },
  {
   "cell_type": "markdown",
   "metadata": {},
   "source": [
    "| Feature | Abbreviation | Feature | Abbreviation | Feature | Abbreviation |\n",
    "| --- | --- | --- | --- | --- |\n",
    "| Field Goal Made | FGM | Field Goal Attempts | FGA | Field Goal Percentage | FGP |\n",
    "| Three Point Made | 3PM | Three Point Attempts | 3PA | Three Point Percentage | 3PP |\n",
    "| Free Throw Made | FTM | Free Throw Attempts | FTA | Free Throw Percentage | FTP |\n",
    "| Assist to Turnover Ratio | ATR | Blocks | Blk | Elo Rating | Elo |\n",
    "| Offensive Rebounds | OReb | Defensive Rebounds | DReb | | |"
   ]
  },
  {
   "cell_type": "markdown",
   "metadata": {},
   "source": [
    "### Models"
   ]
  },
  {
   "cell_type": "markdown",
   "metadata": {},
   "source": [
    "The three models chosen in this project are logistic regression, support vector machines and convolutional neural networks. "
   ]
  },
  {
   "cell_type": "markdown",
   "metadata": {},
   "source": [
    "__Logistic Regression (LR)__  LR is a regression analysis that works very well with categorical targets. It links targets to weights and inputs by an activation function (e.g., sigmoid function). The error function in this model, which is also called cross-entropy, is derived by taking the negative logarithm of the likelihood function. The scikit-learn package is used to build the LR model.  "
   ]
  },
  {
   "cell_type": "markdown",
   "metadata": {},
   "source": [
    "__Support Vector Machines (SVMs)__  SVMs is a discriminative method which relies on a linear combination of a kernel evaluated at the training samples to make predictions. SVMs model is also called maximum margin classifiers because its key idea is to find the best decision boundary(ies) by maximizing margin. Kernel functions can be used to effectively reduce computational cost in high dimensional space. In this project, a linear kernel will be applied. The scikit-learn package is used to build the SVMs model.  "
   ]
  },
  {
   "cell_type": "markdown",
   "metadata": {},
   "source": [
    "__Convolutional Neural Networks (CNN)__  CNN model is a biologically-inspired machine learning model which is consisted with interconnected units and nodes. In this project, a three layer concolutional neural network model will be constructed. It has two hidden layers of units between the input and output units. The Keras package is used to build the CNN model. "
   ]
  },
  {
   "cell_type": "markdown",
   "metadata": {},
   "source": [
    "## Exploratory Analysis"
   ]
  },
  {
   "cell_type": "markdown",
   "metadata": {
    "collapsed": true
   },
   "source": [
    "For convenience, the exploratory analysis is done on a relatively small subset which includes games stats from 2014 to 2018. In this session, I will show the structure of this dataset and also explore the correlation between the selected features and game outcomes, points scored, etc."
   ]
  },
  {
   "cell_type": "markdown",
   "metadata": {},
   "source": [
    "### Data Reading and Preprocessing "
   ]
  },
  {
   "cell_type": "code",
   "execution_count": 31,
   "metadata": {
    "collapsed": true
   },
   "outputs": [],
   "source": [
    "#Import packages and libraries\n",
    "import numpy as np # Linear Algebra\n",
    "import pandas as pd # data processing, CSV file I/O (e.g. pd.read_csv)\n",
    "import matplotlib.pyplot as plt # Python Plotting Library\n",
    "%matplotlib inline\n",
    "import math"
   ]
  },
  {
   "cell_type": "code",
   "execution_count": 32,
   "metadata": {
    "collapsed": true
   },
   "outputs": [],
   "source": [
    "# Read in the dataset\n",
    "df_nba = pd.read_csv(\"nba_stats_1996-2018.csv\")\n",
    "# Get the stats after 2016 season\n",
    "df_nba = df_nba[df_nba['SEASON_YEAR']>='2014-15']"
   ]
  },
  {
   "cell_type": "code",
   "execution_count": 33,
   "metadata": {},
   "outputs": [
    {
     "data": {
      "text/plain": [
       "Index(['Unnamed: 0', 'SEASON_YEAR', 'TEAM_ID', 'TEAM_ABBREVIATION',\n",
       "       'TEAM_NAME', 'GAME_ID', 'GAME_DATE', 'MATCHUP', 'WL', 'MIN', 'FGM',\n",
       "       'FGA', 'FG3M', 'FG3A', 'FTM', 'FTA', 'OREB', 'DREB', 'AST', 'TOV',\n",
       "       'STL', 'BLK', 'PF', 'PTS'],\n",
       "      dtype='object')"
      ]
     },
     "execution_count": 33,
     "metadata": {},
     "output_type": "execute_result"
    }
   ],
   "source": [
    "# Look at the feature names in this dataset\n",
    "df_nba.columns"
   ]
  },
  {
   "cell_type": "code",
   "execution_count": 34,
   "metadata": {
    "collapsed": true
   },
   "outputs": [],
   "source": [
    "# Rename the column names by the abbreviations\n",
    "df_nba.columns = ['Index', 'Season', 'Team_ID', 'Team_ABB', 'Team_NAME', 'Game_ID', 'Game_DATE',\n",
    "       'Matchup', 'WL', 'MIN', 'FGM', 'FGA', 'FG3M', 'FG3A', 'FTM', 'FTA', 'OREB', 'DREB', 'AST', 'TOV',\n",
    "       'STL', 'BLK', 'PF', 'PTS']"
   ]
  },
  {
   "cell_type": "code",
   "execution_count": 35,
   "metadata": {},
   "outputs": [
    {
     "data": {
      "text/plain": [
       "(13120, 24)"
      ]
     },
     "execution_count": 35,
     "metadata": {},
     "output_type": "execute_result"
    }
   ],
   "source": [
    "# Look at the shape of the dataset\n",
    "df_nba.shape"
   ]
  },
  {
   "cell_type": "markdown",
   "metadata": {},
   "source": [
    "The dataset has 13120 rows. Each row represents how a team does in a single NBA game. There are 24 columns in the dataset which include basic information like team name, game date, etc. and all the stats such as points scored, field goal percentage for the team at that game.  "
   ]
  },
  {
   "cell_type": "code",
   "execution_count": 36,
   "metadata": {
    "collapsed": true
   },
   "outputs": [],
   "source": [
    "# Create new features: field goal, 3 pointer, free throw percentages and assistant to turnover ratio\n",
    "df_nba = df_nba.assign(FGP = df_nba.FGM/df_nba.FGA*100)\n",
    "df_nba = df_nba.assign(FG3P = df_nba.FG3M/df_nba.FG3A*100)\n",
    "df_nba = df_nba.assign(FTP = df_nba.FTM/df_nba.FTA*100)\n",
    "df_nba = df_nba.assign(ATR = df_nba.AST/(df_nba.AST+df_nba.TOV)*100)\n",
    "df_nba.fillna(value=0.0,inplace=True)"
   ]
  },
  {
   "cell_type": "code",
   "execution_count": 37,
   "metadata": {},
   "outputs": [
    {
     "data": {
      "text/html": [
       "<div>\n",
       "<style scoped>\n",
       "    .dataframe tbody tr th:only-of-type {\n",
       "        vertical-align: middle;\n",
       "    }\n",
       "\n",
       "    .dataframe tbody tr th {\n",
       "        vertical-align: top;\n",
       "    }\n",
       "\n",
       "    .dataframe thead th {\n",
       "        text-align: right;\n",
       "    }\n",
       "</style>\n",
       "<table border=\"1\" class=\"dataframe\">\n",
       "  <thead>\n",
       "    <tr style=\"text-align: right;\">\n",
       "      <th></th>\n",
       "      <th>Index</th>\n",
       "      <th>Season</th>\n",
       "      <th>Team_ID</th>\n",
       "      <th>Team_ABB</th>\n",
       "      <th>Team_NAME</th>\n",
       "      <th>Game_ID</th>\n",
       "      <th>Game_DATE</th>\n",
       "      <th>Matchup</th>\n",
       "      <th>WL</th>\n",
       "      <th>MIN</th>\n",
       "      <th>...</th>\n",
       "      <th>AST</th>\n",
       "      <th>TOV</th>\n",
       "      <th>STL</th>\n",
       "      <th>BLK</th>\n",
       "      <th>PF</th>\n",
       "      <th>PTS</th>\n",
       "      <th>FGP</th>\n",
       "      <th>FG3P</th>\n",
       "      <th>FTP</th>\n",
       "      <th>ATR</th>\n",
       "    </tr>\n",
       "  </thead>\n",
       "  <tbody>\n",
       "    <tr>\n",
       "      <th>0</th>\n",
       "      <td>0</td>\n",
       "      <td>2014-15</td>\n",
       "      <td>1610612759</td>\n",
       "      <td>SAS</td>\n",
       "      <td>San Antonio Spurs</td>\n",
       "      <td>21401223</td>\n",
       "      <td>2015-04-15T00:00:00</td>\n",
       "      <td>SAS @ NOP</td>\n",
       "      <td>L</td>\n",
       "      <td>48.0</td>\n",
       "      <td>...</td>\n",
       "      <td>33</td>\n",
       "      <td>15</td>\n",
       "      <td>2</td>\n",
       "      <td>3</td>\n",
       "      <td>20</td>\n",
       "      <td>103</td>\n",
       "      <td>56.962025</td>\n",
       "      <td>30.000000</td>\n",
       "      <td>76.923077</td>\n",
       "      <td>68.750000</td>\n",
       "    </tr>\n",
       "    <tr>\n",
       "      <th>1</th>\n",
       "      <td>1</td>\n",
       "      <td>2014-15</td>\n",
       "      <td>1610612763</td>\n",
       "      <td>MEM</td>\n",
       "      <td>Memphis Grizzlies</td>\n",
       "      <td>21401220</td>\n",
       "      <td>2015-04-15T00:00:00</td>\n",
       "      <td>MEM vs. IND</td>\n",
       "      <td>W</td>\n",
       "      <td>48.0</td>\n",
       "      <td>...</td>\n",
       "      <td>12</td>\n",
       "      <td>13</td>\n",
       "      <td>10</td>\n",
       "      <td>3</td>\n",
       "      <td>17</td>\n",
       "      <td>95</td>\n",
       "      <td>47.368421</td>\n",
       "      <td>22.222222</td>\n",
       "      <td>80.769231</td>\n",
       "      <td>48.000000</td>\n",
       "    </tr>\n",
       "    <tr>\n",
       "      <th>2</th>\n",
       "      <td>2</td>\n",
       "      <td>2014-15</td>\n",
       "      <td>1610612752</td>\n",
       "      <td>NYK</td>\n",
       "      <td>New York Knicks</td>\n",
       "      <td>21401226</td>\n",
       "      <td>2015-04-15T00:00:00</td>\n",
       "      <td>NYK vs. DET</td>\n",
       "      <td>L</td>\n",
       "      <td>48.0</td>\n",
       "      <td>...</td>\n",
       "      <td>19</td>\n",
       "      <td>21</td>\n",
       "      <td>6</td>\n",
       "      <td>3</td>\n",
       "      <td>18</td>\n",
       "      <td>90</td>\n",
       "      <td>42.857143</td>\n",
       "      <td>36.842105</td>\n",
       "      <td>62.962963</td>\n",
       "      <td>47.500000</td>\n",
       "    </tr>\n",
       "    <tr>\n",
       "      <th>3</th>\n",
       "      <td>3</td>\n",
       "      <td>2014-15</td>\n",
       "      <td>1610612758</td>\n",
       "      <td>SAC</td>\n",
       "      <td>Sacramento Kings</td>\n",
       "      <td>21401230</td>\n",
       "      <td>2015-04-15T00:00:00</td>\n",
       "      <td>SAC @ LAL</td>\n",
       "      <td>W</td>\n",
       "      <td>48.0</td>\n",
       "      <td>...</td>\n",
       "      <td>30</td>\n",
       "      <td>10</td>\n",
       "      <td>10</td>\n",
       "      <td>4</td>\n",
       "      <td>16</td>\n",
       "      <td>122</td>\n",
       "      <td>54.761905</td>\n",
       "      <td>47.058824</td>\n",
       "      <td>53.658537</td>\n",
       "      <td>75.000000</td>\n",
       "    </tr>\n",
       "    <tr>\n",
       "      <th>4</th>\n",
       "      <td>4</td>\n",
       "      <td>2014-15</td>\n",
       "      <td>1610612755</td>\n",
       "      <td>PHI</td>\n",
       "      <td>Philadelphia 76ers</td>\n",
       "      <td>21401227</td>\n",
       "      <td>2015-04-15T00:00:00</td>\n",
       "      <td>PHI vs. MIA</td>\n",
       "      <td>L</td>\n",
       "      <td>48.0</td>\n",
       "      <td>...</td>\n",
       "      <td>26</td>\n",
       "      <td>18</td>\n",
       "      <td>7</td>\n",
       "      <td>5</td>\n",
       "      <td>21</td>\n",
       "      <td>101</td>\n",
       "      <td>45.783133</td>\n",
       "      <td>17.241379</td>\n",
       "      <td>80.000000</td>\n",
       "      <td>59.090909</td>\n",
       "    </tr>\n",
       "  </tbody>\n",
       "</table>\n",
       "<p>5 rows × 28 columns</p>\n",
       "</div>"
      ],
      "text/plain": [
       "   Index   Season     Team_ID Team_ABB           Team_NAME   Game_ID  \\\n",
       "0      0  2014-15  1610612759      SAS   San Antonio Spurs  21401223   \n",
       "1      1  2014-15  1610612763      MEM   Memphis Grizzlies  21401220   \n",
       "2      2  2014-15  1610612752      NYK     New York Knicks  21401226   \n",
       "3      3  2014-15  1610612758      SAC    Sacramento Kings  21401230   \n",
       "4      4  2014-15  1610612755      PHI  Philadelphia 76ers  21401227   \n",
       "\n",
       "             Game_DATE      Matchup WL   MIN    ...      AST  TOV  STL  BLK  \\\n",
       "0  2015-04-15T00:00:00    SAS @ NOP  L  48.0    ...       33   15    2    3   \n",
       "1  2015-04-15T00:00:00  MEM vs. IND  W  48.0    ...       12   13   10    3   \n",
       "2  2015-04-15T00:00:00  NYK vs. DET  L  48.0    ...       19   21    6    3   \n",
       "3  2015-04-15T00:00:00    SAC @ LAL  W  48.0    ...       30   10   10    4   \n",
       "4  2015-04-15T00:00:00  PHI vs. MIA  L  48.0    ...       26   18    7    5   \n",
       "\n",
       "   PF  PTS        FGP       FG3P        FTP        ATR  \n",
       "0  20  103  56.962025  30.000000  76.923077  68.750000  \n",
       "1  17   95  47.368421  22.222222  80.769231  48.000000  \n",
       "2  18   90  42.857143  36.842105  62.962963  47.500000  \n",
       "3  16  122  54.761905  47.058824  53.658537  75.000000  \n",
       "4  21  101  45.783133  17.241379  80.000000  59.090909  \n",
       "\n",
       "[5 rows x 28 columns]"
      ]
     },
     "execution_count": 37,
     "metadata": {},
     "output_type": "execute_result"
    }
   ],
   "source": [
    "df_nba.reset_index(inplace=True, drop=True)\n",
    "df_nba.head(5)"
   ]
  },
  {
   "cell_type": "code",
   "execution_count": 38,
   "metadata": {},
   "outputs": [
    {
     "name": "stdout",
     "output_type": "stream",
     "text": [
      "(6560, 28) (6560, 28)\n"
     ]
    }
   ],
   "source": [
    "# Separate the dataset into winning teams and losing teams.\n",
    "df_winner = df_nba[df_nba['WL']=='W']\n",
    "df_loser = df_nba[df_nba['WL']=='L']\n",
    "print(df_winner.shape, df_loser.shape)"
   ]
  },
  {
   "cell_type": "markdown",
   "metadata": {},
   "source": [
    "Next let's look at histogram plots of features 'FGP', 'FG3P','FTP' and 'ATR' for both winners and losers."
   ]
  },
  {
   "cell_type": "code",
   "execution_count": 39,
   "metadata": {
    "scrolled": true
   },
   "outputs": [
    {
     "data": {
      "image/png": "[encoded data removed]",
      "text/plain": [
       "<Figure size 432x288 with 4 Axes>"
      ]
     },
     "metadata": {},
     "output_type": "display_data"
    }
   ],
   "source": [
    "plt.figure(1)\n",
    "plt.subplot(221)\n",
    "(hist_Wfg, bins_fg) = plt.hist(df_winner.FGP,bins=100,range=(min(df_winner.FGP.tolist()+df_loser.FGP.tolist()),max(df_winner.FGP.tolist()+df_loser.FGP.tolist())), label='teams won')[:-1]\n",
    "hist_Lfg = plt.hist(df_loser.FGP,bins=100,range=(min(df_winner.FGP.tolist()+df_loser.FGP.tolist()),max(df_winner.FGP.tolist()+df_loser.FGP.tolist())), label='teams lost')[0]\n",
    "plt.xlabel('field goal %', fontsize=20)\n",
    "plt.ylabel('counts', fontsize=20)\n",
    "plt.legend(loc='best', prop={'size': 7})\n",
    "\n",
    "plt.subplot(222)\n",
    "(hist_Wfg3, bins_fg3) = plt.hist(df_winner.FG3P,bins=100,range=(min(df_winner.FG3P.tolist()+df_loser.FG3P.tolist()),max(df_winner.FGP.tolist()+df_loser.FGP.tolist())),label='teams won')[:-1]\n",
    "hist_Lfg3 = plt.hist(df_loser.FG3P,bins=100,range=(min(df_winner.FG3P.tolist()+df_loser.FG3P.tolist()),max(df_winner.FG3P.tolist()+df_loser.FG3P.tolist())), label='teams lost')[0]\n",
    "plt.xlabel('3 pointer %', fontsize=20)\n",
    "#plt.ylabel('counts', fontsize=15)\n",
    "plt.legend(loc='best', prop={'size': 7})\n",
    "\n",
    "plt.subplot(223)\n",
    "(hist_Wft, bins_ft) = plt.hist(df_winner.FTP,bins=100,range=(min(df_winner.FTP.tolist()+df_loser.FTP.tolist()),max(df_winner.FTP.tolist()+df_loser.FTP.tolist())),label='teams won')[:-1]\n",
    "hist_Lft = plt.hist(df_loser.FTP,bins=100,range=(min(df_winner.FTP.tolist()+df_loser.FTP.tolist()),max(df_winner.FTP.tolist()+df_loser.FTP.tolist())),label='teams lost')[0]\n",
    "plt.xlabel('free throw %',fontsize=20)\n",
    "plt.ylabel('counts',fontsize=20)\n",
    "plt.legend(loc='best', prop={'size': 7})\n",
    "\n",
    "plt.subplot(224)\n",
    "(hist_Watr, bins_atr) = plt.hist(df_winner.ATR,bins=100,range=(min(df_winner.ATR.tolist()+df_loser.ATR.tolist()),max(df_winner.ATR.tolist()+df_loser.ATR.tolist())), label='teams won')[:-1]\n",
    "hist_Latr = plt.hist(df_loser.ATR,bins=100,range=(min(df_winner.ATR.tolist()+df_loser.ATR.tolist()),max(df_winner.ATR.tolist()+df_loser.ATR.tolist())), label='teams lost')[0]\n",
    "plt.xlabel('ass/to',fontsize=20)\n",
    "#plt.ylabel('counts', fontsize=15)\n",
    "plt.legend(loc='best', prop={'size': 7})\n",
    "\n",
    "plt.tight_layout()"
   ]
  },
  {
   "cell_type": "markdown",
   "metadata": {},
   "source": [
    "Next, we can look at the direct correlation between winning percentage and these metrics."
   ]
  },
  {
   "cell_type": "code",
   "execution_count": 40,
   "metadata": {},
   "outputs": [
    {
     "name": "stderr",
     "output_type": "stream",
     "text": [
      "C:\\Users\\yiqichen\\UB\\Anaconda3\\lib\\site-packages\\ipykernel_launcher.py:2: RuntimeWarning: invalid value encountered in true_divide\n",
      "  \n",
      "C:\\Users\\yiqichen\\UB\\Anaconda3\\lib\\site-packages\\ipykernel_launcher.py:3: RuntimeWarning: invalid value encountered in true_divide\n",
      "  This is separate from the ipykernel package so we can avoid doing imports until\n",
      "C:\\Users\\yiqichen\\UB\\Anaconda3\\lib\\site-packages\\ipykernel_launcher.py:4: RuntimeWarning: invalid value encountered in true_divide\n",
      "  after removing the cwd from sys.path.\n",
      "C:\\Users\\yiqichen\\UB\\Anaconda3\\lib\\site-packages\\ipykernel_launcher.py:5: RuntimeWarning: invalid value encountered in true_divide\n",
      "  \"\"\"\n"
     ]
    }
   ],
   "source": [
    "# Compute winning percentages for each metric within histogram bins\n",
    "prob_Wfg = hist_Wfg/(hist_Wfg+hist_Lfg)*100\n",
    "prob_Wfg3 = hist_Wfg3/(hist_Wfg3+hist_Lfg3)*100\n",
    "prob_Wft = hist_Wft/(hist_Wft+hist_Lft)*100\n",
    "prob_Watr = hist_Watr/(hist_Watr+hist_Latr)*100"
   ]
  },
  {
   "cell_type": "code",
   "execution_count": 41,
   "metadata": {
    "scrolled": true
   },
   "outputs": [
    {
     "data": {
      "image/png": "[encoded data removed]",
      "text/plain": [
       "<Figure size 432x288 with 4 Axes>"
      ]
     },
     "metadata": {},
     "output_type": "display_data"
    }
   ],
   "source": [
    "plt.figure(2)\n",
    "plt.subplot(221)\n",
    "plt.plot(bins_fg[:-1],prob_Wfg,'.')\n",
    "plt.xlabel('field goal %', fontsize=20)\n",
    "plt.ylabel('winning %', fontsize=20)\n",
    "\n",
    "plt.subplot(222)\n",
    "plt.plot(bins_fg3[:-1],prob_Wfg3,'.')\n",
    "plt.xlabel('3 point %', fontsize=20)\n",
    "\n",
    "plt.subplot(223)\n",
    "plt.plot(bins_ft[:-1],prob_Wft,'.')\n",
    "plt.xlabel('free throw %', fontsize=20)\n",
    "plt.ylabel('winning %', fontsize=20)\n",
    "\n",
    "plt.subplot(224)\n",
    "plt.plot(bins_atr[:-1],prob_Watr,'.')\n",
    "plt.xlabel('ass/to %', fontsize=20)\n",
    "\n",
    "plt.tight_layout()"
   ]
  },
  {
   "cell_type": "markdown",
   "metadata": {},
   "source": [
    "It is observed that teams shot more accurately in field goal and pointer percentages usually have a better chance to win. The same applies to the assistant-to-turnover ratio. However, free throw percentage does not have as large impact on winning as other features."
   ]
  },
  {
   "cell_type": "markdown",
   "metadata": {},
   "source": [
    "### Calculation and Validation of Elo Rating "
   ]
  },
  {
   "cell_type": "markdown",
   "metadata": {},
   "source": [
    "In the next part I will show how to calculate the Elo rating. The detailed explanation for the Elo rating can be found on https://en.wikipedia.org/wiki/Elo_rating_system. Here a base value of 1500 and a width of 400 are used. The k factor is set at 15. Higher k factor values will cause the rating to fluctuate largely while small values could not reflect the rating changes properly. Several tests show that 15 is a good choice."
   ]
  },
  {
   "cell_type": "code",
   "execution_count": 42,
   "metadata": {
    "collapsed": true
   },
   "outputs": [],
   "source": [
    "# Define the base value and width of Elo ratings\n",
    "base_elo, elo_width = 1500, 400\n",
    "k_factor = 15"
   ]
  },
  {
   "cell_type": "code",
   "execution_count": 43,
   "metadata": {
    "collapsed": true
   },
   "outputs": [],
   "source": [
    "# Define functions to calculate the elo rating and the average season stats. \n",
    "def cal_elo(win_elo_before, lose_elo_before, home):\n",
    "    \"\"\" Args:\n",
    "        win_elo_befroe: Elo rating of winning team before this game.\n",
    "        lose_elo_before: Elo rating of losing team before this game.\n",
    "        home: the adjustment for homecourt advantage.\n",
    "        Returns:\n",
    "        win_elo_after: Elo rating for the winning team after this game.\n",
    "        lose_elo_after: Elo rating for the losing team after this game.\n",
    "    \"\"\"\n",
    "    expect_a = 1.0/(1+math.pow(10,1.0*(lose_elo_before - win_elo_before - home)/elo_width))\n",
    "    diff_elo = k_factor * (1 - expect_a)\n",
    "    win_elo_after = win_elo_before + diff_elo\n",
    "    lose_elo_after = lose_elo_before-diff_elo\n",
    "    return win_elo_after, lose_elo_after"
   ]
  },
  {
   "cell_type": "markdown",
   "metadata": {},
   "source": [
    "Start computing Elo rating for every team in the league."
   ]
  },
  {
   "cell_type": "code",
   "execution_count": 44,
   "metadata": {
    "collapsed": true
   },
   "outputs": [],
   "source": [
    "df_team = pd.DataFrame(list(set(df_nba['Team_ABB'])),columns=['Team']) # Use a dataframe to store the stats of different teams\n",
    "df_team['Elo'] = base_elo\n",
    "current_season = df_nba.at[0, 'Season'] # The season we are collecting stats from"
   ]
  },
  {
   "cell_type": "code",
   "execution_count": 45,
   "metadata": {
    "collapsed": true
   },
   "outputs": [],
   "source": [
    "df_winner.reset_index(inplace=True, drop=True)\n",
    "df_loser.reset_index(inplace=True, drop=True)"
   ]
  },
  {
   "cell_type": "code",
   "execution_count": 46,
   "metadata": {
    "collapsed": true
   },
   "outputs": [],
   "source": [
    "i = 0\n",
    "for index, row in df_winner.iterrows():\n",
    "    if row['Season'] != current_season:\n",
    "        \"\"\"After each season, regress toward the base rating to make ratings more close \n",
    "        at the begining of next season\n",
    "        \"\"\"\n",
    "        df_team['Elo'] -= (df_team['Elo']-base_elo)/4\n",
    "        current_season = row['Season']\n",
    "        \n",
    "    # Calculate and update Elo for both Winning and losing teams\n",
    "    win_team = row['Team_ABB']\n",
    "    lose_team = df_loser[df_loser['Game_ID']==row['Game_ID']]['Team_ABB'].iloc[0]\n",
    "    win_elo_before = df_team.loc[df_team.Team==win_team,'Elo'].iloc[0]\n",
    "    lose_elo_before = df_team.loc[df_team.Team==lose_team,'Elo'].iloc[0]\n",
    "    \n",
    "    # Add 100 in Elo rating for home teams, and subtract 100 for away teams \n",
    "    if 'vs' in row['Matchup']: \n",
    "        home = 100\n",
    "    else: \n",
    "        home = -100\n",
    "    win_elo,lose_elo = cal_elo(win_elo_before, lose_elo_before, home) # Calculate\n",
    "    df_team.loc[df_team.Team==win_team,'Elo'] = win_elo # Update winning team Elo\n",
    "    df_team.loc[df_team.Team==lose_team,'Elo'] = lose_elo # Update losing team Elo "
   ]
  },
  {
   "cell_type": "markdown",
   "metadata": {},
   "source": [
    "Let's look at the rankings and bar plot of Elo ratings."
   ]
  },
  {
   "cell_type": "code",
   "execution_count": 47,
   "metadata": {},
   "outputs": [
    {
     "data": {
      "text/html": [
       "<div>\n",
       "<style scoped>\n",
       "    .dataframe tbody tr th:only-of-type {\n",
       "        vertical-align: middle;\n",
       "    }\n",
       "\n",
       "    .dataframe tbody tr th {\n",
       "        vertical-align: top;\n",
       "    }\n",
       "\n",
       "    .dataframe thead th {\n",
       "        text-align: right;\n",
       "    }\n",
       "</style>\n",
       "<table border=\"1\" class=\"dataframe\">\n",
       "  <thead>\n",
       "    <tr style=\"text-align: right;\">\n",
       "      <th></th>\n",
       "      <th>Team</th>\n",
       "      <th>Elo</th>\n",
       "    </tr>\n",
       "  </thead>\n",
       "  <tbody>\n",
       "    <tr>\n",
       "      <th>26</th>\n",
       "      <td>GSW</td>\n",
       "      <td>1678.231339</td>\n",
       "    </tr>\n",
       "    <tr>\n",
       "      <th>23</th>\n",
       "      <td>TOR</td>\n",
       "      <td>1674.155256</td>\n",
       "    </tr>\n",
       "    <tr>\n",
       "      <th>10</th>\n",
       "      <td>MIL</td>\n",
       "      <td>1668.725269</td>\n",
       "    </tr>\n",
       "    <tr>\n",
       "      <th>16</th>\n",
       "      <td>HOU</td>\n",
       "      <td>1610.942609</td>\n",
       "    </tr>\n",
       "    <tr>\n",
       "      <th>17</th>\n",
       "      <td>DEN</td>\n",
       "      <td>1596.663799</td>\n",
       "    </tr>\n",
       "    <tr>\n",
       "      <th>9</th>\n",
       "      <td>PHI</td>\n",
       "      <td>1594.069864</td>\n",
       "    </tr>\n",
       "    <tr>\n",
       "      <th>29</th>\n",
       "      <td>BOS</td>\n",
       "      <td>1593.211199</td>\n",
       "    </tr>\n",
       "    <tr>\n",
       "      <th>4</th>\n",
       "      <td>POR</td>\n",
       "      <td>1591.931075</td>\n",
       "    </tr>\n",
       "    <tr>\n",
       "      <th>0</th>\n",
       "      <td>LAC</td>\n",
       "      <td>1561.773919</td>\n",
       "    </tr>\n",
       "    <tr>\n",
       "      <th>11</th>\n",
       "      <td>SAS</td>\n",
       "      <td>1555.863569</td>\n",
       "    </tr>\n",
       "    <tr>\n",
       "      <th>14</th>\n",
       "      <td>OKC</td>\n",
       "      <td>1551.518520</td>\n",
       "    </tr>\n",
       "    <tr>\n",
       "      <th>27</th>\n",
       "      <td>UTA</td>\n",
       "      <td>1546.777539</td>\n",
       "    </tr>\n",
       "    <tr>\n",
       "      <th>19</th>\n",
       "      <td>IND</td>\n",
       "      <td>1540.831538</td>\n",
       "    </tr>\n",
       "    <tr>\n",
       "      <th>18</th>\n",
       "      <td>SAC</td>\n",
       "      <td>1489.040572</td>\n",
       "    </tr>\n",
       "    <tr>\n",
       "      <th>13</th>\n",
       "      <td>LAL</td>\n",
       "      <td>1483.359508</td>\n",
       "    </tr>\n",
       "    <tr>\n",
       "      <th>22</th>\n",
       "      <td>MIN</td>\n",
       "      <td>1479.629748</td>\n",
       "    </tr>\n",
       "    <tr>\n",
       "      <th>28</th>\n",
       "      <td>DET</td>\n",
       "      <td>1475.625858</td>\n",
       "    </tr>\n",
       "    <tr>\n",
       "      <th>24</th>\n",
       "      <td>NOP</td>\n",
       "      <td>1473.336204</td>\n",
       "    </tr>\n",
       "    <tr>\n",
       "      <th>20</th>\n",
       "      <td>MIA</td>\n",
       "      <td>1470.578102</td>\n",
       "    </tr>\n",
       "    <tr>\n",
       "      <th>7</th>\n",
       "      <td>CHA</td>\n",
       "      <td>1470.500601</td>\n",
       "    </tr>\n",
       "    <tr>\n",
       "      <th>1</th>\n",
       "      <td>ORL</td>\n",
       "      <td>1461.387360</td>\n",
       "    </tr>\n",
       "    <tr>\n",
       "      <th>21</th>\n",
       "      <td>BKN</td>\n",
       "      <td>1456.329729</td>\n",
       "    </tr>\n",
       "    <tr>\n",
       "      <th>12</th>\n",
       "      <td>MEM</td>\n",
       "      <td>1452.492378</td>\n",
       "    </tr>\n",
       "    <tr>\n",
       "      <th>8</th>\n",
       "      <td>WAS</td>\n",
       "      <td>1437.558347</td>\n",
       "    </tr>\n",
       "    <tr>\n",
       "      <th>6</th>\n",
       "      <td>DAL</td>\n",
       "      <td>1434.833713</td>\n",
       "    </tr>\n",
       "    <tr>\n",
       "      <th>5</th>\n",
       "      <td>ATL</td>\n",
       "      <td>1362.964534</td>\n",
       "    </tr>\n",
       "    <tr>\n",
       "      <th>25</th>\n",
       "      <td>CLE</td>\n",
       "      <td>1337.755941</td>\n",
       "    </tr>\n",
       "    <tr>\n",
       "      <th>15</th>\n",
       "      <td>CHI</td>\n",
       "      <td>1331.847556</td>\n",
       "    </tr>\n",
       "    <tr>\n",
       "      <th>2</th>\n",
       "      <td>NYK</td>\n",
       "      <td>1312.308510</td>\n",
       "    </tr>\n",
       "    <tr>\n",
       "      <th>3</th>\n",
       "      <td>PHX</td>\n",
       "      <td>1305.755845</td>\n",
       "    </tr>\n",
       "  </tbody>\n",
       "</table>\n",
       "</div>"
      ],
      "text/plain": [
       "   Team          Elo\n",
       "26  GSW  1678.231339\n",
       "23  TOR  1674.155256\n",
       "10  MIL  1668.725269\n",
       "16  HOU  1610.942609\n",
       "17  DEN  1596.663799\n",
       "9   PHI  1594.069864\n",
       "29  BOS  1593.211199\n",
       "4   POR  1591.931075\n",
       "0   LAC  1561.773919\n",
       "11  SAS  1555.863569\n",
       "14  OKC  1551.518520\n",
       "27  UTA  1546.777539\n",
       "19  IND  1540.831538\n",
       "18  SAC  1489.040572\n",
       "13  LAL  1483.359508\n",
       "22  MIN  1479.629748\n",
       "28  DET  1475.625858\n",
       "24  NOP  1473.336204\n",
       "20  MIA  1470.578102\n",
       "7   CHA  1470.500601\n",
       "1   ORL  1461.387360\n",
       "21  BKN  1456.329729\n",
       "12  MEM  1452.492378\n",
       "8   WAS  1437.558347\n",
       "6   DAL  1434.833713\n",
       "5   ATL  1362.964534\n",
       "25  CLE  1337.755941\n",
       "15  CHI  1331.847556\n",
       "2   NYK  1312.308510\n",
       "3   PHX  1305.755845"
      ]
     },
     "execution_count": 47,
     "metadata": {},
     "output_type": "execute_result"
    }
   ],
   "source": [
    "df_team.sort_values(by='Elo',ascending=False)"
   ]
  },
  {
   "cell_type": "code",
   "execution_count": 48,
   "metadata": {},
   "outputs": [
    {
     "data": {
      "text/plain": [
       "Text(0.5,1,'Elo Rating')"
      ]
     },
     "execution_count": 48,
     "metadata": {},
     "output_type": "execute_result"
    },
    {
     "data": {
      "image/png": "[encoded data removed]",
      "text/plain": [
       "<Figure size 864x864 with 1 Axes>"
      ]
     },
     "metadata": {},
     "output_type": "display_data"
    }
   ],
   "source": [
    "# Bar plot for Elo ratings\n",
    "y_pos = np.arange(len(df_team))\n",
    "my_colors = ['r','m','b','navy','grey','coral','orange','k','purple','maroon']*3\n",
    "plt.figure(figsize=(12,12))\n",
    "plt.barh(y_pos, list(df_team['Elo']), align='center',color=my_colors)\n",
    "plt.yticks(y_pos, list(df_team.Team), fontsize=15)\n",
    "plt.xlabel('Elo Rating',fontsize=20)\n",
    "plt.ylabel('Team',fontsize=20)\n",
    "plt.xlim([1200, 1800])\n",
    "plt.title('Elo Rating',fontsize=20)"
   ]
  },
  {
   "cell_type": "markdown",
   "metadata": {},
   "source": [
    "The top three teams in Elo rating are Golden State Warriors, Toronto Raptors and Milwaukee Bucks. The bottom three are Chicago Bulls, New York Knicks and Phoenix Suns. At first glance, this ranking looks reasonable. Next let's look at the winning percentage for teams in 2018-19 season to see if Elo rating can properly reflect the strength of teams. "
   ]
  },
  {
   "cell_type": "code",
   "execution_count": 49,
   "metadata": {
    "collapsed": true
   },
   "outputs": [],
   "source": [
    "# Calculate winning percentage for every team during 2017 Season\n",
    "df_win = df_winner.loc[df_winner['Season']=='2018-19'].groupby('Team_ABB').size().reset_index()\n",
    "df_win=df_win.rename(index=str, columns={0:'Win'})\n",
    "\n",
    "df_loss = df_loser.loc[df_loser['Season']=='2018-19'].groupby('Team_ABB').size().reset_index()\n",
    "df_loss= df_loss.rename(index=str, columns={0:'Loss'})\n",
    "\n",
    "df_percent = df_win['Win']/(df_win['Win']+df_loss['Loss'])*100\n",
    "df_percent = df_percent.to_frame()\n",
    "df_percent['Team'] = df_win['Team_ABB']\n",
    "df_percent=df_percent.rename(index=str, columns={0:'Win %'})"
   ]
  },
  {
   "cell_type": "code",
   "execution_count": 50,
   "metadata": {
    "collapsed": true
   },
   "outputs": [],
   "source": [
    "# Merge winning percentage as a feature into the main dataframe.\n",
    "df_team = df_team.merge(df_percent,on='Team')"
   ]
  },
  {
   "cell_type": "markdown",
   "metadata": {},
   "source": [
    "Plot a bar plot showing winning percentages for teams in 2018-19 season."
   ]
  },
  {
   "cell_type": "code",
   "execution_count": 52,
   "metadata": {},
   "outputs": [
    {
     "data": {
      "text/plain": [
       "Text(0.5,1,'Winning Percentage by Team')"
      ]
     },
     "execution_count": 52,
     "metadata": {},
     "output_type": "execute_result"
    },
    {
     "data": {
      "image/png": "[encoded data removed]",
      "text/plain": [
       "<Figure size 864x864 with 1 Axes>"
      ]
     },
     "metadata": {},
     "output_type": "display_data"
    }
   ],
   "source": [
    "plt.figure(figsize=(12,12))\n",
    "plt.barh(y_pos, list(df_team['Win %']), align='center',color=my_colors)\n",
    "plt.yticks(y_pos, list(df_team.Team), fontsize=15)\n",
    "plt.xlabel('Winning Percentage',fontsize=20)\n",
    "plt.ylabel('Team',fontsize=20)\n",
    "plt.xlim([15, 80])\n",
    "plt.title('Winning Percentage by Team',fontsize=20)"
   ]
  },
  {
   "cell_type": "markdown",
   "metadata": {
    "collapsed": true
   },
   "source": [
    "The Milwaukee Bucks had the best record in the league in 2019 season, followed by Toronto Raptors and Golden State Warriors. They are the top three teams in Elo rating. So we have reasons to believe the Elo rating is a good indication of how strong a team is."
   ]
  },
  {
   "cell_type": "markdown",
   "metadata": {},
   "source": [
    "## Conclusion and Future Plan"
   ]
  },
  {
   "cell_type": "markdown",
   "metadata": {},
   "source": [
    "Based on the exploratory analysis above, it is confirmed that the shooting percentage and assistant-to-turnover ratio are positively related to a team's chance of winning an NBA game. In addition, the probability of using Elo rating as a feature in predicting game outcomes is explored. It is shown that Elo rating is a good indication of the strength of teams and should be useful in predicting the winner of an NBA game. These evidences give me confidence that this proposal is viable. In the future, the entire dataset will be used and processed. Then several models will be trained to make predictions on the betting lines.     "
   ]
  },
  {
   "cell_type": "markdown",
   "metadata": {},
   "source": [
    "Above is my capstone project proposal. I am very excited to have the chance to complete it during my training in Data Incubator program."
   ]
  }
 ],
 "metadata": {
  "kernelspec": {
   "display_name": "Python 3",
   "language": "python",
   "name": "python3"
  },
  "language_info": {
   "codemirror_mode": {
    "name": "ipython",
    "version": 3
   },
   "file_extension": ".py",
   "mimetype": "text/x-python",
   "name": "python",
   "nbconvert_exporter": "python",
   "pygments_lexer": "ipython3",
   "version": "3.6.3"
  }
 },
 "nbformat": 4,
 "nbformat_minor": 2
}
